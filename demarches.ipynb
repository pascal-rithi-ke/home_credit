{
 "cells": [
  {
   "attachments": {},
   "cell_type": "markdown",
   "metadata": {},
   "source": [
    "Pour remplir la mission 1 :\n",
    "\n",
    "```python\n",
    "import pandas as pd\n",
    "import os\n",
    "from sqlalchemy import create_engine\n",
    "import pymysql\n",
    "\n",
    "# Connexion à la base de données\n",
    "engine = create_engine(\"mysql+pymysql://{user}:{pw}@{host}/{db}\"\n",
    "                       .format(user=\"303869\",\n",
    "                               pw=\"7852xawJBTjDhTc\",\n",
    "                               host=\"mysql-credit-scoring-ipssi.alwaysdata.net\",\n",
    "                               db=\"credit-scoring-ipssi_home-credit\"))\n",
    "\n",
    "dossier = os.getcwd()\n",
    "fichiers_csv = [fichier for fichier in os.listdir(dossier) if fichier.endswith(\".csv\")]\n",
    "\n",
    "for fichier in fichiers_csv:\n",
    "    df = pd.read_csv(fichier)\n",
    "    print(fichier, \"lu\")\n",
    "    df.to_sql(con=engine, name=fichier[:-4], if_exists=\"replace\", index=False, chunksize=1000)\n",
    "    print(fichier, \"importé\")\n",
    "```"
   ]
  },
  {
   "cell_type": "markdown",
   "metadata": {},
   "source": []
  }
 ],
 "metadata": {
  "language_info": {
   "name": "python"
  },
  "orig_nbformat": 4
 },
 "nbformat": 4,
 "nbformat_minor": 2
}
